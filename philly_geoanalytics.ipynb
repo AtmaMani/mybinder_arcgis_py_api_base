{
 "cells": [
  {
   "cell_type": "markdown",
   "metadata": {},
   "source": [
    "# GeoAnalytics on Philadelphia crime dataset"
   ]
  },
  {
   "cell_type": "code",
   "execution_count": 2,
   "metadata": {
    "collapsed": true
   },
   "outputs": [],
   "source": [
    "#connect to GIS Enterprise\n",
    "from arcgis.gis import *\n",
    "import arcgis.geoanalytics\n",
    "gis = GIS(\"https://dev003735.esri.com/portal\",\"arcgis_python_api\",\"sharing.1\")"
   ]
  },
  {
   "cell_type": "code",
   "execution_count": 3,
   "metadata": {
    "collapsed": false
   },
   "outputs": [
    {
     "data": {
      "text/plain": [
       "<DatastoreManager for https://dev003736.esri.com:6443/arcgis/admin>"
      ]
     },
     "execution_count": 3,
     "metadata": {},
     "output_type": "execute_result"
    }
   ],
   "source": [
    "#register as bdfs\n",
    "path_to_full_dataset = r'\\\\teton\\atma_shared\\datasets\\PhillyCrime'\n",
    "bd_dm = arcgis.geoanalytics.get_datastores()\n",
    "bd_dm"
   ]
  },
  {
   "cell_type": "code",
   "execution_count": 4,
   "metadata": {
    "collapsed": false
   },
   "outputs": [
    {
     "data": {
      "text/plain": [
       "[<Datastore title:\"/bigDataFileShares/unittest_fortune500\" type:\"bigDataFileShare\">,\n",
       " <Datastore title:\"/enterpriseDatabases/AGSDataStore_ds_ilam95pe\" type:\"egdb\">,\n",
       " <Datastore title:\"/nosqlDatabases/AGSDataStore_nosqldb_tcs_c0nv5wlv\" type:\"nosql\">]"
      ]
     },
     "execution_count": 4,
     "metadata": {},
     "output_type": "execute_result"
    }
   ],
   "source": [
    "#search for existing data store entries\n",
    "bd_dm.search()"
   ]
  },
  {
   "cell_type": "code",
   "execution_count": 5,
   "metadata": {
    "collapsed": false
   },
   "outputs": [
    {
     "name": "stdout",
     "output_type": "stream",
     "text": [
      "Created Big Data file share for philly_all\n"
     ]
    },
    {
     "data": {
      "text/plain": [
       "<Datastore title:\"/bigDataFileShares/philly_all\" type:\"bigDataFileShare\">"
      ]
     },
     "execution_count": 5,
     "metadata": {},
     "output_type": "execute_result"
    }
   ],
   "source": [
    "#add new data store\n",
    "philly_ds = bd_dm.add_bigdata(\"philly_all\",path_to_full_dataset)\n",
    "philly_ds"
   ]
  },
  {
   "cell_type": "code",
   "execution_count": 7,
   "metadata": {
    "collapsed": false
   },
   "outputs": [
    {
     "data": {
      "text/plain": [
       "{}"
      ]
     },
     "execution_count": 7,
     "metadata": {},
     "output_type": "execute_result"
    }
   ],
   "source": [
    "philly_ds.manifest"
   ]
  },
  {
   "cell_type": "code",
   "execution_count": null,
   "metadata": {
    "collapsed": true
   },
   "outputs": [],
   "source": []
  }
 ],
 "metadata": {
  "kernelspec": {
   "display_name": "Python 3",
   "language": "python",
   "name": "python3"
  },
  "language_info": {
   "codemirror_mode": {
    "name": "ipython",
    "version": 3
   },
   "file_extension": ".py",
   "mimetype": "text/x-python",
   "name": "python",
   "nbconvert_exporter": "python",
   "pygments_lexer": "ipython3",
   "version": "3.5.2"
  }
 },
 "nbformat": 4,
 "nbformat_minor": 1
}
